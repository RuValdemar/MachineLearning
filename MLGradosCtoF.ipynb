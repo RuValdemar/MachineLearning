{
  "nbformat": 4,
  "nbformat_minor": 0,
  "metadata": {
    "colab": {
      "provenance": [],
      "toc_visible": true,
      "authorship_tag": "ABX9TyMDdy11bsxoMNs5W/iUGQV7",
      "include_colab_link": true
    },
    "kernelspec": {
      "name": "python3",
      "display_name": "Python 3"
    },
    "language_info": {
      "name": "python"
    }
  },
  "cells": [
    {
      "cell_type": "markdown",
      "metadata": {
        "id": "view-in-github",
        "colab_type": "text"
      },
      "source": [
        "<a href=\"https://colab.research.google.com/github/RuValdemar/MachineLearning/blob/main/MLGradosCtoF.ipynb\" target=\"_parent\"><img src=\"https://colab.research.google.com/assets/colab-badge.svg\" alt=\"Open In Colab\"/></a>"
      ]
    },
    {
      "cell_type": "code",
      "execution_count": null,
      "metadata": {
        "id": "8is1lbnoO3Ei"
      },
      "outputs": [],
      "source": [
        "import tensorflow as tf\n",
        "import numpy as np"
      ]
    },
    {
      "cell_type": "code",
      "source": [
        "celsius = np.array([-40, -10, 0, 8, 15, 22, 38], dtype=float)\n",
        "fahrenheit = np.array([-40, 14, 32, 46.4, 59, 71.6, 100.4], dtype=float)"
      ],
      "metadata": {
        "id": "oCy8Ll3XPM2I"
      },
      "execution_count": null,
      "outputs": []
    },
    {
      "cell_type": "code",
      "source": [
        "#capa = tf.keras.layers.Dense(units=1, input_shape=[1])\n",
        "#modelo = tf.keras.Sequential([capa])\n",
        "\n",
        "cOculta1 = tf.keras.layers.Dense(units=3, input_shape=[1])\n",
        "cOculta2 = tf.keras.layers.Dense(units=3)\n",
        "capaSalida = tf.keras.layers.Dense(units=1)\n",
        "modelo = tf.keras.Sequential([cOculta1, cOculta2, capaSalida])"
      ],
      "metadata": {
        "colab": {
          "base_uri": "https://localhost:8080/"
        },
        "id": "gwo4k357P5bQ",
        "outputId": "842be86d-2ba5-405f-a88b-1fb9ba149a1e"
      },
      "execution_count": null,
      "outputs": [
        {
          "output_type": "stream",
          "name": "stderr",
          "text": [
            "/usr/local/lib/python3.12/dist-packages/keras/src/layers/core/dense.py:93: UserWarning: Do not pass an `input_shape`/`input_dim` argument to a layer. When using Sequential models, prefer using an `Input(shape)` object as the first layer in the model instead.\n",
            "  super().__init__(activity_regularizer=activity_regularizer, **kwargs)\n"
          ]
        }
      ]
    },
    {
      "cell_type": "code",
      "source": [
        "modelo.compile(\n",
        "    optimizer=tf.keras.optimizers.Adam(0.1),\n",
        "    loss='mean_squared_error'\n",
        ")"
      ],
      "metadata": {
        "id": "mXlhAv6kQosU"
      },
      "execution_count": null,
      "outputs": []
    },
    {
      "cell_type": "code",
      "source": [
        "print(\"Comenzando entrenamiento...\")\n",
        "historial = modelo.fit(celsius, fahrenheit, epochs=1000, verbose=False)\n",
        "print(\"Modelo entrenado!\")"
      ],
      "metadata": {
        "colab": {
          "base_uri": "https://localhost:8080/"
        },
        "id": "fe7uBmbYRD4L",
        "outputId": "8695d31e-9dcf-4f08-9dfd-6a92da889d8b"
      },
      "execution_count": null,
      "outputs": [
        {
          "output_type": "stream",
          "name": "stdout",
          "text": [
            "Comenzando entrenamiento...\n",
            "Modelo entrenado!\n"
          ]
        }
      ]
    },
    {
      "cell_type": "code",
      "source": [
        "import matplotlib.pyplot as plt\n",
        "plt.xlabel(\"# Epoca\")\n",
        "plt.ylabel(\"Magnitud de pérdida\")\n",
        "plt.plot(historial.history[\"loss\"])"
      ],
      "metadata": {
        "colab": {
          "base_uri": "https://localhost:8080/",
          "height": 466
        },
        "id": "rQQsVQj0Ua64",
        "outputId": "05cd33f7-3783-4c00-c1b0-abecb51daf35"
      },
      "execution_count": null,
      "outputs": [
        {
          "output_type": "execute_result",
          "data": {
            "text/plain": [
              "[<matplotlib.lines.Line2D at 0x7a24814bdfa0>]"
            ]
          },
          "metadata": {},
          "execution_count": 28
        },
        {
          "output_type": "display_data",
          "data": {
            "text/plain": [
              "<Figure size 640x480 with 1 Axes>"
            ],
            "image/png": "[encoded data removed]"
          },
          "metadata": {}
        }
      ]
    },
    {
      "cell_type": "code",
      "source": [
        "print(\"Hagamos una predicción!\")\n",
        "resultado = modelo.predict(np.array([100.0]))\n",
        "print(\"El resultado es \" + str(resultado) + \" fahrenheit!\")"
      ],
      "metadata": {
        "colab": {
          "base_uri": "https://localhost:8080/"
        },
        "id": "p9NlU-oWYYmO",
        "outputId": "98924b05-bcd9-46ea-b329-ed065b367509"
      },
      "execution_count": null,
      "outputs": [
        {
          "output_type": "stream",
          "name": "stdout",
          "text": [
            "Hagamos una predicción!\n",
            "\u001b[1m1/1\u001b[0m \u001b[32m━━━━━━━━━━━━━━━━━━━━\u001b[0m\u001b[37m\u001b[0m \u001b[1m0s\u001b[0m 70ms/step\n",
            "El resultado es [[212.]] fahrenheit!\n"
          ]
        }
      ]
    }
  ]
}